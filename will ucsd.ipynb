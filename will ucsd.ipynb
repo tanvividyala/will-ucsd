{
 "cells": [
  {
   "cell_type": "markdown",
   "id": "9c1ce790-5d19-40be-9e6e-ce29777ff2ed",
   "metadata": {},
   "source": [
    "# Imports!"
   ]
  },
  {
   "cell_type": "code",
   "execution_count": 81,
   "id": "fc23c5db-e3c2-4a7e-9977-3e478324ef1b",
   "metadata": {
    "tags": []
   },
   "outputs": [],
   "source": [
    "import pandas as pd\n",
    "import numpy as np\n",
    "import matplotlib.pyplot as plt\n",
    "from sklearn.model_selection import train_test_split\n",
    "from sklearn.ensemble import RandomForestRegressor\n",
    "from sklearn.metrics import mean_absolute_error, mean_squared_error\n",
    "from sklearn.model_selection import train_test_split"
   ]
  },
  {
   "cell_type": "markdown",
   "id": "58fe48e6",
   "metadata": {
    "tags": []
   },
   "source": [
    "# Data Cleaning and Set Up"
   ]
  },
  {
   "cell_type": "code",
   "execution_count": 98,
   "id": "28bd972f-ef3c-4e35-95e6-a9c8588ea8fa",
   "metadata": {
    "tags": []
   },
   "outputs": [],
   "source": [
    "years = [2023, 2022, 2021, 2020, 2019, 2018, 2017, 2016, 2015, 2014, 2013, 2012, 2011, 2010, 2009, 2008, 2007, 2006, 2005, 2004, 2003, 2002, 2001, 2000, 1999, 1998, 1997, 1996, 1995, 1994]\n",
    "\n",
    "for year in years:\n",
    "    ucsd_enr = pd.read_excel(f'/Users/tvidyala/Desktop/uc uh oh!/Enrollment/ucsd {year} enr.xlsx')\n",
    "    ucsd_enr.columns = ucsd_enr.columns.str.strip()\n",
    "    ucsd_enr = ucsd_enr.rename(columns={\n",
    "        'School': 'school', 'City': 'city', 'County/State/ Territory': 'county',\n",
    "        'Count': 'status', 'All': 'total'\n",
    "    }).query(\"status != 'Enr'\").drop(['Calculation1', 'Female', 'Male', 'Other', 'Unknown'], axis=1)\n",
    "    ucsd_enr['school'] = ucsd_enr['school'].fillna(method='ffill')\n",
    "    ucsd_enr['city'] = ucsd_enr['city'].fillna(method='ffill')\n",
    "    ucsd_enr['county'] = ucsd_enr['county'].fillna(method='ffill')\n",
    "    ucsd_enr['total'] = ucsd_enr['total'].fillna(0)\n",
    "    ucsd_enr = ucsd_enr.pivot_table(index=['school', 'city', 'county'], columns='status', values='total', fill_value=0).reset_index()\n",
    "    ucsd_enr['acceptance_rate'] = (ucsd_enr['Adm'] / ucsd_enr['App'] * 100).round(2)\n",
    "    ucsd_gpa = pd.read_excel(f'/Users/tvidyala/Desktop/uc uh oh!/GPA/ucsd {year} gpa.xlsx')\n",
    "    ucsd_gpa.columns = ucsd_gpa.columns.str.strip()\n",
    "    ucsd_gpa = ucsd_gpa.drop(['Calculation1', 'Enrl GPA'], axis=1).rename(columns={\n",
    "        'School': 'school', 'City': 'city', 'County/State/Country': 'county',\n",
    "        'App GPA': 'app_gpa', 'Adm GPA': 'adm_gpa'\n",
    "    }).round({'app_gpa': 2, 'adm_gpa': 2})\n",
    "    ucsd = pd.merge(ucsd_enr, ucsd_gpa, on=['school', 'city', 'county'], how='left')\n",
    "    ucsd = ucsd.rename(columns={'Adm': 'adm', 'App': 'app'})\n",
    "    ucsd.to_csv(f'/Users/tvidyala/Desktop/uc uh oh!/uc clean data/ucsd {year}.csv', index=False)"
   ]
  },
  {
   "cell_type": "code",
   "execution_count": 83,
   "id": "73f44701-f9bb-472c-8f00-12bbcc8c4c10",
   "metadata": {
    "tags": []
   },
   "outputs": [],
   "source": [
    "years = [1994, 1995, 1996, 1997, 1998, 1999, 2000, 2001, 2002, 2003, 2004, 2005, 2006, 2007, 2008, 2009, 2010, 2011, 2012, 2013, 2014, 2015, 2016, 2017, 2018, 2019, 2020, 2021, 2022, 2023]\n",
    "\n",
    "for year in years:\n",
    "    globals()[f'ucsd_{year}'] = pd.read_csv(f'ucsd {year}.csv')"
   ]
  },
  {
   "cell_type": "code",
   "execution_count": 84,
   "id": "16210d9c-55d5-4829-a0be-b5152c597fef",
   "metadata": {
    "tags": []
   },
   "outputs": [
    {
     "data": {
      "text/html": [
       "<div>\n",
       "<style scoped>\n",
       "    .dataframe tbody tr th:only-of-type {\n",
       "        vertical-align: middle;\n",
       "    }\n",
       "\n",
       "    .dataframe tbody tr th {\n",
       "        vertical-align: top;\n",
       "    }\n",
       "\n",
       "    .dataframe thead th {\n",
       "        text-align: right;\n",
       "    }\n",
       "</style>\n",
       "<table border=\"1\" class=\"dataframe\">\n",
       "  <thead>\n",
       "    <tr style=\"text-align: right;\">\n",
       "      <th></th>\n",
       "      <th>school</th>\n",
       "      <th>city</th>\n",
       "      <th>county</th>\n",
       "      <th>adm</th>\n",
       "      <th>app</th>\n",
       "      <th>acceptance_rate</th>\n",
       "      <th>app_gpa</th>\n",
       "      <th>adm_gpa</th>\n",
       "    </tr>\n",
       "  </thead>\n",
       "  <tbody>\n",
       "    <tr>\n",
       "      <th>0</th>\n",
       "      <td>A B MILLER HIGH SCHOOL</td>\n",
       "      <td>Fontana</td>\n",
       "      <td>San Bernardino</td>\n",
       "      <td>0</td>\n",
       "      <td>17</td>\n",
       "      <td>0.00</td>\n",
       "      <td>3.78</td>\n",
       "      <td>3.89</td>\n",
       "    </tr>\n",
       "    <tr>\n",
       "      <th>1</th>\n",
       "      <td>ABLE CHARTER</td>\n",
       "      <td>Stockton</td>\n",
       "      <td>San Joaquin</td>\n",
       "      <td>0</td>\n",
       "      <td>0</td>\n",
       "      <td>NaN</td>\n",
       "      <td>NaN</td>\n",
       "      <td>NaN</td>\n",
       "    </tr>\n",
       "    <tr>\n",
       "      <th>2</th>\n",
       "      <td>ABRAHAM LINCOLN HIGH SCHOOL</td>\n",
       "      <td>Los Angeles</td>\n",
       "      <td>Los Angeles</td>\n",
       "      <td>13</td>\n",
       "      <td>34</td>\n",
       "      <td>38.24</td>\n",
       "      <td>3.80</td>\n",
       "      <td>4.16</td>\n",
       "    </tr>\n",
       "    <tr>\n",
       "      <th>3</th>\n",
       "      <td>ABRAHAM LINCOLN HIGH SCHOOL</td>\n",
       "      <td>San Francisco</td>\n",
       "      <td>San Francisco</td>\n",
       "      <td>29</td>\n",
       "      <td>136</td>\n",
       "      <td>21.32</td>\n",
       "      <td>3.80</td>\n",
       "      <td>4.29</td>\n",
       "    </tr>\n",
       "    <tr>\n",
       "      <th>4</th>\n",
       "      <td>ABRAHAM LINCOLN HIGH SCHOOL</td>\n",
       "      <td>San Jose</td>\n",
       "      <td>Santa Clara</td>\n",
       "      <td>6</td>\n",
       "      <td>35</td>\n",
       "      <td>17.14</td>\n",
       "      <td>3.86</td>\n",
       "      <td>4.28</td>\n",
       "    </tr>\n",
       "    <tr>\n",
       "      <th>...</th>\n",
       "      <td>...</td>\n",
       "      <td>...</td>\n",
       "      <td>...</td>\n",
       "      <td>...</td>\n",
       "      <td>...</td>\n",
       "      <td>...</td>\n",
       "      <td>...</td>\n",
       "      <td>...</td>\n",
       "    </tr>\n",
       "    <tr>\n",
       "      <th>1407</th>\n",
       "      <td>YREKA HIGH SCHOOL</td>\n",
       "      <td>Yreka</td>\n",
       "      <td>Siskiyou</td>\n",
       "      <td>0</td>\n",
       "      <td>7</td>\n",
       "      <td>0.00</td>\n",
       "      <td>4.03</td>\n",
       "      <td>NaN</td>\n",
       "    </tr>\n",
       "    <tr>\n",
       "      <th>1408</th>\n",
       "      <td>YUBA CITY CHARTER SCHOOL</td>\n",
       "      <td>Yuba City</td>\n",
       "      <td>Sutter</td>\n",
       "      <td>0</td>\n",
       "      <td>0</td>\n",
       "      <td>NaN</td>\n",
       "      <td>NaN</td>\n",
       "      <td>NaN</td>\n",
       "    </tr>\n",
       "    <tr>\n",
       "      <th>1409</th>\n",
       "      <td>YUBA CITY HIGH SCHOOL</td>\n",
       "      <td>Yuba City</td>\n",
       "      <td>Sutter</td>\n",
       "      <td>3</td>\n",
       "      <td>7</td>\n",
       "      <td>42.86</td>\n",
       "      <td>3.48</td>\n",
       "      <td>NaN</td>\n",
       "    </tr>\n",
       "    <tr>\n",
       "      <th>1410</th>\n",
       "      <td>YUCAIPA SENIOR HIGH SCHOOL</td>\n",
       "      <td>Yucaipa</td>\n",
       "      <td>San Bernardino</td>\n",
       "      <td>13</td>\n",
       "      <td>53</td>\n",
       "      <td>24.53</td>\n",
       "      <td>3.92</td>\n",
       "      <td>4.25</td>\n",
       "    </tr>\n",
       "    <tr>\n",
       "      <th>1411</th>\n",
       "      <td>YUCCA VALLEY HIGH SCHOOL</td>\n",
       "      <td>Yucca Valley</td>\n",
       "      <td>San Bernardino</td>\n",
       "      <td>5</td>\n",
       "      <td>15</td>\n",
       "      <td>33.33</td>\n",
       "      <td>3.88</td>\n",
       "      <td>NaN</td>\n",
       "    </tr>\n",
       "  </tbody>\n",
       "</table>\n",
       "<p>1412 rows × 8 columns</p>\n",
       "</div>"
      ],
      "text/plain": [
       "                           school           city          county  adm  app  \\\n",
       "0          A B MILLER HIGH SCHOOL        Fontana  San Bernardino    0   17   \n",
       "1                    ABLE CHARTER       Stockton     San Joaquin    0    0   \n",
       "2     ABRAHAM LINCOLN HIGH SCHOOL    Los Angeles     Los Angeles   13   34   \n",
       "3     ABRAHAM LINCOLN HIGH SCHOOL  San Francisco   San Francisco   29  136   \n",
       "4     ABRAHAM LINCOLN HIGH SCHOOL       San Jose     Santa Clara    6   35   \n",
       "...                           ...            ...             ...  ...  ...   \n",
       "1407            YREKA HIGH SCHOOL          Yreka        Siskiyou    0    7   \n",
       "1408     YUBA CITY CHARTER SCHOOL      Yuba City          Sutter    0    0   \n",
       "1409        YUBA CITY HIGH SCHOOL      Yuba City          Sutter    3    7   \n",
       "1410   YUCAIPA SENIOR HIGH SCHOOL        Yucaipa  San Bernardino   13   53   \n",
       "1411     YUCCA VALLEY HIGH SCHOOL   Yucca Valley  San Bernardino    5   15   \n",
       "\n",
       "      acceptance_rate  app_gpa  adm_gpa  \n",
       "0                0.00     3.78     3.89  \n",
       "1                 NaN      NaN      NaN  \n",
       "2               38.24     3.80     4.16  \n",
       "3               21.32     3.80     4.29  \n",
       "4               17.14     3.86     4.28  \n",
       "...               ...      ...      ...  \n",
       "1407             0.00     4.03      NaN  \n",
       "1408              NaN      NaN      NaN  \n",
       "1409            42.86     3.48      NaN  \n",
       "1410            24.53     3.92     4.25  \n",
       "1411            33.33     3.88      NaN  \n",
       "\n",
       "[1412 rows x 8 columns]"
      ]
     },
     "execution_count": 84,
     "metadata": {},
     "output_type": "execute_result"
    }
   ],
   "source": [
    "ucsd_2023"
   ]
  },
  {
   "cell_type": "markdown",
   "id": "65ae0bf3-ebd6-4672-b740-a355833c8baf",
   "metadata": {},
   "source": [
    "# View by City"
   ]
  },
  {
   "cell_type": "code",
   "execution_count": 85,
   "id": "81dc5fec-9945-4575-8ffc-fe7f79f925a5",
   "metadata": {
    "tags": []
   },
   "outputs": [
    {
     "data": {
      "text/plain": [
       "(0.0, 79.90865949119373)"
      ]
     },
     "execution_count": 85,
     "metadata": {},
     "output_type": "execute_result"
    },
    {
     "data": {
      "image/png": "[encoded data removed]",
      "text/plain": [
       "<Figure size 640x480 with 1 Axes>"
      ]
     },
     "metadata": {},
     "output_type": "display_data"
    }
   ],
   "source": [
    "my_city = \"Fremont\"\n",
    "years = [1994, 1995, 1996, 1997, 1998, 1999, 2000, 2001, 2002, 2003, 2004, 2005, 2006, 2007, 2008, 2009, 2010, 2011, 2012, 2013, 2014, 2015, 2016, 2017, 2018, 2019, 2020, 2021, 2022, 2023]\n",
    "acceptance_rates = []\n",
    "avg_gpa = []\n",
    "gpa_diff = []\n",
    "num_applying = []\n",
    "\n",
    "for year in years:\n",
    "    data = globals()[f'ucsd_{year}']\n",
    "    city_data = data.loc[data.city == my_city]\n",
    "    num_applying.append(city_data['app'].sum())\n",
    "    acceptance_rates.append((city_data['adm'].sum()/city_data['app'].sum())*100)\n",
    "    avg_gpa.append(city_data['adm_gpa'].mean())\n",
    "    gpa_diff.append(city_data['app_gpa'].mean() - city_data['adm_gpa'].mean())\n",
    "    \n",
    "plt.title(f'{my_city} acceptance rates')\n",
    "plt.plot(years, acceptance_rates, color = 'r')\n",
    "plt.ylim(bottom=0) "
   ]
  },
  {
   "cell_type": "markdown",
   "id": "4d24e872-7838-4b2e-98bc-4706e7115608",
   "metadata": {},
   "source": [
    "# View by County"
   ]
  },
  {
   "cell_type": "code",
   "execution_count": 86,
   "id": "a5f7ad15-624e-4594-9e4e-867d12cf89d0",
   "metadata": {
    "tags": []
   },
   "outputs": [
    {
     "data": {
      "text/plain": [
       "(0.0, 72.33407832086289)"
      ]
     },
     "execution_count": 86,
     "metadata": {},
     "output_type": "execute_result"
    },
    {
     "data": {
      "image/png": "[encoded data removed]",
      "text/plain": [
       "<Figure size 640x480 with 1 Axes>"
      ]
     },
     "metadata": {},
     "output_type": "display_data"
    }
   ],
   "source": [
    "my_county = \"Alameda\"\n",
    "years = [1994, 1995, 1996, 1997, 1998, 1999, 2000, 2001, 2002, 2003, 2004, 2005, 2006, 2007, 2008, 2009, 2010, 2011, 2012, 2013, 2014, 2015, 2016, 2017, 2018, 2019, 2020, 2021, 2022, 2023]\n",
    "acceptance_rates = []\n",
    "avg_gpa = []\n",
    "gpa_diff = []\n",
    "num_applying = []\n",
    "\n",
    "for year in years:\n",
    "    data = globals()[f'ucsd_{year}']\n",
    "    county_data = data.loc[data.county == my_county]\n",
    "    num_applying.append(county_data['app'].sum())\n",
    "    acceptance_rates.append((county_data['adm'].sum()/county_data['app'].sum())*100)\n",
    "    avg_gpa.append(county_data['adm_gpa'].mean())\n",
    "    gpa_diff.append(county_data['app_gpa'].mean() - county_data['adm_gpa'].mean())\n",
    "    \n",
    "plt.title(f'{my_county} acceptance rates')\n",
    "plt.plot(years, acceptance_rates, color = 'r')\n",
    "plt.ylim(bottom=0) "
   ]
  },
  {
   "cell_type": "markdown",
   "id": "54ef3c23-434d-41dc-9fc8-319a8d975784",
   "metadata": {},
   "source": [
    "# View By Entire California"
   ]
  },
  {
   "cell_type": "code",
   "execution_count": 87,
   "id": "06e4941c-5fc8-4945-b599-46c1ae94ec4f",
   "metadata": {
    "tags": []
   },
   "outputs": [
    {
     "data": {
      "text/plain": [
       "(0.0, 67.3319273387017)"
      ]
     },
     "execution_count": 87,
     "metadata": {},
     "output_type": "execute_result"
    },
    {
     "data": {
      "image/png": "[encoded data removed]",
      "text/plain": [
       "<Figure size 640x480 with 1 Axes>"
      ]
     },
     "metadata": {},
     "output_type": "display_data"
    }
   ],
   "source": [
    "years = [1994, 1995, 1996, 1997, 1998, 1999, 2000, 2001, 2002, 2003, 2004, 2005, 2006, 2007, 2008, 2009, 2010, 2011, 2012, 2013, 2014, 2015, 2016, 2017, 2018, 2019, 2020, 2021, 2022, 2023]\n",
    "acceptance_rates = []\n",
    "avg_gpa = []\n",
    "gpa_diff = []\n",
    "num_applying = []\n",
    "\n",
    "for year in years:\n",
    "    data = globals()[f'ucsd_{year}']\n",
    "    acceptance_rates.append((data.adm.sum()/data.app.sum())*100)\n",
    "    avg_gpa.append(data.adm_gpa.mean())\n",
    "    gpa_diff.append(data.adm_gpa.mean()-data.app_gpa.mean())\n",
    "    num_applying.append(data.app.sum())\n",
    "    \n",
    "plt.title(f'California Acceptance Rates')\n",
    "plt.plot(years, acceptance_rates, color = 'b') # change based on which you want to view\n",
    "plt.ylim(bottom=0) "
   ]
  },
  {
   "cell_type": "markdown",
   "id": "40c7802d-912e-4fc6-bebc-cb5a3e7336f9",
   "metadata": {},
   "source": [
    "# Predict Future Data"
   ]
  },
  {
   "cell_type": "markdown",
   "id": "99254b35-023a-4f0e-bdcd-c8f05276e832",
   "metadata": {},
   "source": [
    "### Put all of it into one ginormous file!"
   ]
  },
  {
   "cell_type": "code",
   "execution_count": 88,
   "id": "cce94683-7c4d-41f3-b155-3a85346c0a68",
   "metadata": {
    "tags": []
   },
   "outputs": [],
   "source": [
    "ucsd = pd.DataFrame()"
   ]
  },
  {
   "cell_type": "code",
   "execution_count": 89,
   "id": "e2c7364f-fdb6-409e-9ac5-4345cbc0b5e9",
   "metadata": {
    "tags": []
   },
   "outputs": [],
   "source": [
    "ucsd.to_csv('ucsd.csv')"
   ]
  },
  {
   "cell_type": "code",
   "execution_count": 90,
   "id": "2c89e8f1-ca8f-4b31-bff4-9f2b1d9f8a14",
   "metadata": {
    "tags": []
   },
   "outputs": [],
   "source": [
    "years = [1994, 1995, 1996, 1997, 1998, 1999, 2000, 2001, 2002, 2003, 2004, 2005, 2006, 2007, 2008, 2009, 2010, 2011, 2012, 2013, 2014, 2015, 2016, 2017, 2018, 2019, 2020, 2021, 2022, 2023]\n",
    "for yr in years:\n",
    "    data = globals()[f'ucsd_{yr}']\n",
    "    data['year'] = str(yr)"
   ]
  },
  {
   "cell_type": "code",
   "execution_count": 91,
   "id": "be90a455-9224-4e53-9c7f-86ca8c8fb072",
   "metadata": {
    "tags": []
   },
   "outputs": [],
   "source": [
    "ucsd = pd.concat([ucsd_1994, ucsd_1995, ucsd_1996, ucsd_1997, ucsd_1998, ucsd_1999, ucsd_2000, ucsd_2001, ucsd_2002, ucsd_2003, ucsd_2004, ucsd_2005, ucsd_2006, ucsd_2007, ucsd_2008, ucsd_2009, ucsd_2010, ucsd_2011, ucsd_2012, ucsd_2013, ucsd_2014, ucsd_2015, ucsd_2016, ucsd_2017, ucsd_2018, ucsd_2019, ucsd_2020, ucsd_2021, ucsd_2022, ucsd_2023], axis = 0, ignore_index = True)"
   ]
  },
  {
   "cell_type": "code",
   "execution_count": 92,
   "id": "4e20e991-3c93-4764-8eaf-3746eb6d4ead",
   "metadata": {
    "tags": []
   },
   "outputs": [],
   "source": [
    "ucsd = ucsd.fillna(0)"
   ]
  },
  {
   "cell_type": "code",
   "execution_count": 93,
   "id": "e0012ee3-6b82-4448-ad81-ec0fc9d9c502",
   "metadata": {
    "tags": []
   },
   "outputs": [
    {
     "data": {
      "text/html": [
       "<div>\n",
       "<style scoped>\n",
       "    .dataframe tbody tr th:only-of-type {\n",
       "        vertical-align: middle;\n",
       "    }\n",
       "\n",
       "    .dataframe tbody tr th {\n",
       "        vertical-align: top;\n",
       "    }\n",
       "\n",
       "    .dataframe thead th {\n",
       "        text-align: right;\n",
       "    }\n",
       "</style>\n",
       "<table border=\"1\" class=\"dataframe\">\n",
       "  <thead>\n",
       "    <tr style=\"text-align: right;\">\n",
       "      <th></th>\n",
       "      <th>school</th>\n",
       "      <th>city</th>\n",
       "      <th>county</th>\n",
       "      <th>adm</th>\n",
       "      <th>app</th>\n",
       "      <th>acceptance_rate</th>\n",
       "      <th>app_gpa</th>\n",
       "      <th>adm_gpa</th>\n",
       "      <th>year</th>\n",
       "    </tr>\n",
       "  </thead>\n",
       "  <tbody>\n",
       "    <tr>\n",
       "      <th>0</th>\n",
       "      <td>A B MILLER HIGH SCHOOL</td>\n",
       "      <td>Fontana</td>\n",
       "      <td>San Bernardino</td>\n",
       "      <td>6.0</td>\n",
       "      <td>7.0</td>\n",
       "      <td>85.71</td>\n",
       "      <td>3.73</td>\n",
       "      <td>0.00</td>\n",
       "      <td>1994</td>\n",
       "    </tr>\n",
       "    <tr>\n",
       "      <th>1</th>\n",
       "      <td>ABRAHAM LINCOLN HIGH SCHOOL</td>\n",
       "      <td>Los Angeles</td>\n",
       "      <td>Los Angeles</td>\n",
       "      <td>7.0</td>\n",
       "      <td>14.0</td>\n",
       "      <td>50.00</td>\n",
       "      <td>3.27</td>\n",
       "      <td>3.71</td>\n",
       "      <td>1994</td>\n",
       "    </tr>\n",
       "    <tr>\n",
       "      <th>2</th>\n",
       "      <td>ABRAHAM LINCOLN HIGH SCHOOL</td>\n",
       "      <td>San Francisco</td>\n",
       "      <td>San Francisco</td>\n",
       "      <td>9.0</td>\n",
       "      <td>18.0</td>\n",
       "      <td>50.00</td>\n",
       "      <td>3.46</td>\n",
       "      <td>3.97</td>\n",
       "      <td>1994</td>\n",
       "    </tr>\n",
       "    <tr>\n",
       "      <th>3</th>\n",
       "      <td>ABRAHAM LINCOLN HIGH SCHOOL</td>\n",
       "      <td>San Jose</td>\n",
       "      <td>Santa Clara</td>\n",
       "      <td>8.0</td>\n",
       "      <td>13.0</td>\n",
       "      <td>61.54</td>\n",
       "      <td>3.89</td>\n",
       "      <td>3.96</td>\n",
       "      <td>1994</td>\n",
       "    </tr>\n",
       "    <tr>\n",
       "      <th>4</th>\n",
       "      <td>ACALANES HIGH SCHOOL</td>\n",
       "      <td>Lafayette</td>\n",
       "      <td>Contra Costa</td>\n",
       "      <td>44.0</td>\n",
       "      <td>61.0</td>\n",
       "      <td>72.13</td>\n",
       "      <td>3.62</td>\n",
       "      <td>3.90</td>\n",
       "      <td>1994</td>\n",
       "    </tr>\n",
       "    <tr>\n",
       "      <th>...</th>\n",
       "      <td>...</td>\n",
       "      <td>...</td>\n",
       "      <td>...</td>\n",
       "      <td>...</td>\n",
       "      <td>...</td>\n",
       "      <td>...</td>\n",
       "      <td>...</td>\n",
       "      <td>...</td>\n",
       "      <td>...</td>\n",
       "    </tr>\n",
       "    <tr>\n",
       "      <th>33336</th>\n",
       "      <td>YUBA CITY CHARTER SCHOOL</td>\n",
       "      <td>Yuba City</td>\n",
       "      <td>Sutter</td>\n",
       "      <td>0.0</td>\n",
       "      <td>0.0</td>\n",
       "      <td>0.00</td>\n",
       "      <td>0.00</td>\n",
       "      <td>0.00</td>\n",
       "      <td>2023</td>\n",
       "    </tr>\n",
       "    <tr>\n",
       "      <th>33337</th>\n",
       "      <td>YUBA CITY HIGH SCHOOL</td>\n",
       "      <td>Yuba City</td>\n",
       "      <td>Sutter</td>\n",
       "      <td>4.0</td>\n",
       "      <td>28.0</td>\n",
       "      <td>14.29</td>\n",
       "      <td>3.90</td>\n",
       "      <td>0.00</td>\n",
       "      <td>2023</td>\n",
       "    </tr>\n",
       "    <tr>\n",
       "      <th>33338</th>\n",
       "      <td>YUBA CITY INDEPENDENCE ACADEMY</td>\n",
       "      <td>Yuba City</td>\n",
       "      <td>Sutter</td>\n",
       "      <td>0.0</td>\n",
       "      <td>0.0</td>\n",
       "      <td>0.00</td>\n",
       "      <td>0.00</td>\n",
       "      <td>0.00</td>\n",
       "      <td>2023</td>\n",
       "    </tr>\n",
       "    <tr>\n",
       "      <th>33339</th>\n",
       "      <td>YUCAIPA SENIOR HIGH SCHOOL</td>\n",
       "      <td>Yucaipa</td>\n",
       "      <td>San Bernardino</td>\n",
       "      <td>11.0</td>\n",
       "      <td>63.0</td>\n",
       "      <td>17.46</td>\n",
       "      <td>3.92</td>\n",
       "      <td>4.27</td>\n",
       "      <td>2023</td>\n",
       "    </tr>\n",
       "    <tr>\n",
       "      <th>33340</th>\n",
       "      <td>YUCCA VALLEY HIGH SCHOOL</td>\n",
       "      <td>Yucca Valley</td>\n",
       "      <td>San Bernardino</td>\n",
       "      <td>0.0</td>\n",
       "      <td>15.0</td>\n",
       "      <td>0.00</td>\n",
       "      <td>3.69</td>\n",
       "      <td>0.00</td>\n",
       "      <td>2023</td>\n",
       "    </tr>\n",
       "  </tbody>\n",
       "</table>\n",
       "<p>33341 rows × 9 columns</p>\n",
       "</div>"
      ],
      "text/plain": [
       "                               school           city          county   adm  \\\n",
       "0              A B MILLER HIGH SCHOOL        Fontana  San Bernardino   6.0   \n",
       "1         ABRAHAM LINCOLN HIGH SCHOOL    Los Angeles     Los Angeles   7.0   \n",
       "2         ABRAHAM LINCOLN HIGH SCHOOL  San Francisco   San Francisco   9.0   \n",
       "3         ABRAHAM LINCOLN HIGH SCHOOL       San Jose     Santa Clara   8.0   \n",
       "4                ACALANES HIGH SCHOOL      Lafayette    Contra Costa  44.0   \n",
       "...                               ...            ...             ...   ...   \n",
       "33336        YUBA CITY CHARTER SCHOOL      Yuba City          Sutter   0.0   \n",
       "33337           YUBA CITY HIGH SCHOOL      Yuba City          Sutter   4.0   \n",
       "33338  YUBA CITY INDEPENDENCE ACADEMY      Yuba City          Sutter   0.0   \n",
       "33339      YUCAIPA SENIOR HIGH SCHOOL        Yucaipa  San Bernardino  11.0   \n",
       "33340        YUCCA VALLEY HIGH SCHOOL   Yucca Valley  San Bernardino   0.0   \n",
       "\n",
       "        app  acceptance_rate  app_gpa  adm_gpa  year  \n",
       "0       7.0            85.71     3.73     0.00  1994  \n",
       "1      14.0            50.00     3.27     3.71  1994  \n",
       "2      18.0            50.00     3.46     3.97  1994  \n",
       "3      13.0            61.54     3.89     3.96  1994  \n",
       "4      61.0            72.13     3.62     3.90  1994  \n",
       "...     ...              ...      ...      ...   ...  \n",
       "33336   0.0             0.00     0.00     0.00  2023  \n",
       "33337  28.0            14.29     3.90     0.00  2023  \n",
       "33338   0.0             0.00     0.00     0.00  2023  \n",
       "33339  63.0            17.46     3.92     4.27  2023  \n",
       "33340  15.0             0.00     3.69     0.00  2023  \n",
       "\n",
       "[33341 rows x 9 columns]"
      ]
     },
     "execution_count": 93,
     "metadata": {},
     "output_type": "execute_result"
    }
   ],
   "source": [
    "ucsd"
   ]
  },
  {
   "cell_type": "markdown",
   "id": "b39cebde-3f2b-49b3-af13-fa55c60625ce",
   "metadata": {},
   "source": [
    "## Random Forest Regressor to Predict Acceptance Rates"
   ]
  },
  {
   "cell_type": "code",
   "execution_count": 94,
   "id": "55e6009b-ca85-4485-b930-e10c72902975",
   "metadata": {
    "tags": []
   },
   "outputs": [
    {
     "name": "stdout",
     "output_type": "stream",
     "text": [
      "10.399292375009523\n"
     ]
    }
   ],
   "source": [
    "uc_predictor = RandomForestRegressor(random_state = 41)\n",
    "\n",
    "features = ['year', 'adm_gpa', 'app_gpa']\n",
    "\n",
    "X = ucsd[features]\n",
    "y = ucsd.acceptance_rate\n",
    "\n",
    "train_X, val_X, train_y, val_y = train_test_split(X, y,random_state = 0)\n",
    "uc_predictor.fit(train_X, train_y)\n",
    "predictions = uc_predictor.predict(val_X)\n",
    "print(mean_absolute_error(val_y, predictions))"
   ]
  },
  {
   "cell_type": "markdown",
   "id": "3965e0cf-c881-40b1-822a-09e62f764426",
   "metadata": {},
   "source": [
    "Not bad, It's about a 89.6% accuracy rate"
   ]
  },
  {
   "cell_type": "code",
   "execution_count": 95,
   "id": "1ada87a1-25ab-4af8-94a9-b5b443f9ffae",
   "metadata": {
    "tags": []
   },
   "outputs": [],
   "source": [
    "results = pd.DataFrame({\n",
    "    'Actual': val_y,\n",
    "    'Predicted': predictions\n",
    "})"
   ]
  },
  {
   "cell_type": "code",
   "execution_count": 96,
   "id": "d42e1052-7b86-4fbb-a568-e7d46ae81e0d",
   "metadata": {
    "tags": []
   },
   "outputs": [
    {
     "data": {
      "text/html": [
       "<div>\n",
       "<style scoped>\n",
       "    .dataframe tbody tr th:only-of-type {\n",
       "        vertical-align: middle;\n",
       "    }\n",
       "\n",
       "    .dataframe tbody tr th {\n",
       "        vertical-align: top;\n",
       "    }\n",
       "\n",
       "    .dataframe thead th {\n",
       "        text-align: right;\n",
       "    }\n",
       "</style>\n",
       "<table border=\"1\" class=\"dataframe\">\n",
       "  <thead>\n",
       "    <tr style=\"text-align: right;\">\n",
       "      <th></th>\n",
       "      <th>Actual</th>\n",
       "      <th>Predicted</th>\n",
       "    </tr>\n",
       "  </thead>\n",
       "  <tbody>\n",
       "    <tr>\n",
       "      <th>21183</th>\n",
       "      <td>30.86</td>\n",
       "      <td>20.044867</td>\n",
       "    </tr>\n",
       "    <tr>\n",
       "      <th>22169</th>\n",
       "      <td>0.00</td>\n",
       "      <td>3.129353</td>\n",
       "    </tr>\n",
       "    <tr>\n",
       "      <th>23873</th>\n",
       "      <td>30.48</td>\n",
       "      <td>24.393057</td>\n",
       "    </tr>\n",
       "    <tr>\n",
       "      <th>13432</th>\n",
       "      <td>0.00</td>\n",
       "      <td>1.294094</td>\n",
       "    </tr>\n",
       "    <tr>\n",
       "      <th>31298</th>\n",
       "      <td>34.88</td>\n",
       "      <td>30.332100</td>\n",
       "    </tr>\n",
       "    <tr>\n",
       "      <th>...</th>\n",
       "      <td>...</td>\n",
       "      <td>...</td>\n",
       "    </tr>\n",
       "    <tr>\n",
       "      <th>28550</th>\n",
       "      <td>31.25</td>\n",
       "      <td>25.600400</td>\n",
       "    </tr>\n",
       "    <tr>\n",
       "      <th>10388</th>\n",
       "      <td>35.29</td>\n",
       "      <td>32.208100</td>\n",
       "    </tr>\n",
       "    <tr>\n",
       "      <th>30720</th>\n",
       "      <td>0.00</td>\n",
       "      <td>29.505580</td>\n",
       "    </tr>\n",
       "    <tr>\n",
       "      <th>14753</th>\n",
       "      <td>0.00</td>\n",
       "      <td>0.711163</td>\n",
       "    </tr>\n",
       "    <tr>\n",
       "      <th>23587</th>\n",
       "      <td>39.38</td>\n",
       "      <td>35.399375</td>\n",
       "    </tr>\n",
       "  </tbody>\n",
       "</table>\n",
       "<p>8336 rows × 2 columns</p>\n",
       "</div>"
      ],
      "text/plain": [
       "       Actual  Predicted\n",
       "21183   30.86  20.044867\n",
       "22169    0.00   3.129353\n",
       "23873   30.48  24.393057\n",
       "13432    0.00   1.294094\n",
       "31298   34.88  30.332100\n",
       "...       ...        ...\n",
       "28550   31.25  25.600400\n",
       "10388   35.29  32.208100\n",
       "30720    0.00  29.505580\n",
       "14753    0.00   0.711163\n",
       "23587   39.38  35.399375\n",
       "\n",
       "[8336 rows x 2 columns]"
      ]
     },
     "execution_count": 96,
     "metadata": {},
     "output_type": "execute_result"
    }
   ],
   "source": [
    "results"
   ]
  },
  {
   "cell_type": "markdown",
   "id": "260d5bc1-1c55-4706-9a7d-d920bf01a582",
   "metadata": {
    "tags": []
   },
   "source": [
    "## Predict a Specific Value"
   ]
  },
  {
   "cell_type": "code",
   "execution_count": 97,
   "id": "96359ccb-c0b1-4c69-bdc6-bbddd239473c",
   "metadata": {
    "tags": []
   },
   "outputs": [
    {
     "name": "stdout",
     "output_type": "stream",
     "text": [
      "The predicted acceptance rate is 45.82\n"
     ]
    },
    {
     "name": "stderr",
     "output_type": "stream",
     "text": [
      "/Users/tvidyala/anaconda3/lib/python3.11/site-packages/sklearn/base.py:464: UserWarning: X does not have valid feature names, but RandomForestRegressor was fitted with feature names\n",
      "  warnings.warn(\n"
     ]
    }
   ],
   "source": [
    "uc_predictor = RandomForestRegressor(random_state = 42) \n",
    "features = ['year', 'adm_gpa', 'app_gpa']\n",
    "\n",
    "X = ucsd[features]\n",
    "y = ucsd.acceptance_rate\n",
    "input_data = np.array([[2023, 4.1, 3.7]])\n",
    "\n",
    "train_X, val_X, train_y, val_y = train_test_split(X, y,random_state = 0)\n",
    "uc_predictor.fit(train_X, train_y)\n",
    "predictions = uc_predictor.predict(input_data)\n",
    "print(f'The predicted acceptance rate is {predictions[0]:.2f}')"
   ]
  },
  {
   "cell_type": "markdown",
   "id": "4cbea921-654e-4233-bd1a-2cde395e3916",
   "metadata": {
    "tags": []
   },
   "source": [
    "## Adding Location Data to the Model"
   ]
  },
  {
   "cell_type": "markdown",
   "id": "691e7b02-aaa9-4b54-9124-690ee3b163e6",
   "metadata": {},
   "source": [
    "Coming soon!"
   ]
  },
  {
   "cell_type": "markdown",
   "id": "1ca897f8-e029-4dbd-9638-a7d32cbbbea1",
   "metadata": {},
   "source": [
    "## Visualizing Future Acceptance and GPA Trends"
   ]
  },
  {
   "cell_type": "markdown",
   "id": "2dd5277a-ec36-4e2a-8b0e-cd1ced3ddc33",
   "metadata": {
    "tags": []
   },
   "source": [
    "Coming soon!"
   ]
  }
 ],
 "metadata": {
  "kernelspec": {
   "display_name": "Python 3 (ipykernel)",
   "language": "python",
   "name": "python3"
  },
  "language_info": {
   "codemirror_mode": {
    "name": "ipython",
    "version": 3
   },
   "file_extension": ".py",
   "mimetype": "text/x-python",
   "name": "python",
   "nbconvert_exporter": "python",
   "pygments_lexer": "ipython3",
   "version": "3.11.5"
  }
 },
 "nbformat": 4,
 "nbformat_minor": 5
}
